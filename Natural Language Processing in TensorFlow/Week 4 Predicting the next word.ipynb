{
  "cells": [
    {
      "cell_type": "markdown",
      "metadata": {
        "id": "bFWbEb6uGbN-"
      },
      "source": [
        "# Week 4: Predicting the next word\n",
        "\n",
        "Welcome to this assignment! During this week you saw how to create a model that will predict the next word in a text sequence, now you will implement such model and train it using a corpus of Shakespeare's sonnets, while also creating some helper functions to pre-process the data.\n",
        "\n",
        "\n",
        "Let's get started!"
      ]
    },
    {
      "cell_type": "code",
      "execution_count": 1,
      "metadata": {
        "id": "BOwsuGQQY9OL",
        "tags": [
          "graded"
        ]
      },
      "outputs": [],
      "source": [
        "import numpy as np \n",
        "import matplotlib.pyplot as plt\n",
        "import tensorflow as tf\n",
        "from tensorflow.keras.models import Sequential\n",
        "from tensorflow.keras import regularizers\n",
        "from tensorflow.keras.utils import to_categorical \n",
        "from tensorflow.keras.preprocessing.text import Tokenizer\n",
        "from tensorflow.keras.preprocessing.sequence import pad_sequences\n",
        "from tensorflow.keras.layers import Embedding, LSTM, Dense, Bidirectional, Dropout\n"
      ]
    },
    {
      "cell_type": "markdown",
      "metadata": {
        "id": "BTxqlHqKHzhr"
      },
      "source": [
        "For this assignment you will be using the [Shakespeare Sonnets Dataset](https://www.opensourceshakespeare.org/views/sonnets/sonnet_view.php?range=viewrange&sonnetrange1=1&sonnetrange2=154), which contains more than 2000 lines of text extracted from Shakespeare's sonnets."
      ]
    },
    {
      "cell_type": "code",
      "execution_count": 2,
      "metadata": {
        "id": "WZ4qOUzujMP6",
        "tags": [
          "graded"
        ],
        "colab": {
          "base_uri": "https://localhost:8080/"
        },
        "outputId": "38d4649d-62c5-4dd2-a6c9-e977265603ef"
      },
      "outputs": [
        {
          "output_type": "stream",
          "name": "stdout",
          "text": [
            "/usr/local/lib/python3.7/dist-packages/gdown/cli.py:131: FutureWarning: Option `--id` was deprecated in version 4.3.1 and will be removed in 5.0. You don't need to pass it anymore to use a file ID.\n",
            "  category=FutureWarning,\n",
            "Downloading...\n",
            "From: https://drive.google.com/uc?id=108jAePKK4R3BVYBbYJZ32JWUwxeMg20K\n",
            "To: /content/sonnets.txt\n",
            "100% 93.6k/93.6k [00:00<00:00, 53.2MB/s]\n"
          ]
        }
      ],
      "source": [
        "# sonnets.txt\n",
        "!gdown --id 108jAePKK4R3BVYBbYJZ32JWUwxeMg20K"
      ]
    },
    {
      "cell_type": "code",
      "execution_count": 3,
      "metadata": {
        "id": "Pfd-nYKij5yY",
        "tags": [
          "graded"
        ],
        "colab": {
          "base_uri": "https://localhost:8080/"
        },
        "outputId": "addd1875-b71e-4fdc-f2e2-532b18d5ad25"
      },
      "outputs": [
        {
          "output_type": "stream",
          "name": "stdout",
          "text": [
            "There are 2159 lines of sonnets\n",
            "\n",
            "The first 5 lines look like this:\n",
            "\n",
            "from fairest creatures we desire increase,\n",
            "that thereby beauty's rose might never die,\n",
            "but as the riper should by time decease,\n",
            "his tender heir might bear his memory:\n",
            "but thou, contracted to thine own bright eyes,\n"
          ]
        }
      ],
      "source": [
        "# Define path for file with sonnets\n",
        "SONNETS_FILE = './sonnets.txt'\n",
        "\n",
        "# Read the data\n",
        "with open('./sonnets.txt') as f:\n",
        "    data = f.read()\n",
        "\n",
        "# Convert to lower case and save as a list\n",
        "corpus = data.lower().split(\"\\n\")\n",
        "\n",
        "print(f\"There are {len(corpus)} lines of sonnets\\n\")\n",
        "print(f\"The first 5 lines look like this:\\n\")\n",
        "for i in range(5):\n",
        "  print(corpus[i])"
      ]
    },
    {
      "cell_type": "markdown",
      "metadata": {
        "id": "imB15zrSNhA1"
      },
      "source": [
        "## Tokenizing the text\n",
        "\n",
        "Now fit the Tokenizer to the corpus and save the total number of words."
      ]
    },
    {
      "cell_type": "code",
      "execution_count": 4,
      "metadata": {
        "id": "AAhM_qAZk0o5",
        "tags": [
          "graded"
        ]
      },
      "outputs": [],
      "source": [
        "tokenizer = Tokenizer()\n",
        "tokenizer.fit_on_texts(corpus)\n",
        "total_words = len(tokenizer.word_index) + 1"
      ]
    },
    {
      "cell_type": "markdown",
      "metadata": {
        "id": "77-0sA46OETa"
      },
      "source": [
        "When converting the text into sequences you can use the `texts_to_sequences` method as you have done throughout this course.\n",
        "\n",
        "In the next graded function you will need to process this corpus one line at a time. Given this, it is important to keep in mind that the way you are feeding the data unto this method affects the result. Check the following example to make this clearer.\n",
        "\n",
        "The first example of the corpus is a string and looks like this:"
      ]
    },
    {
      "cell_type": "code",
      "execution_count": 5,
      "metadata": {
        "id": "tqhPxdeXlfjh",
        "tags": [
          "graded"
        ],
        "colab": {
          "base_uri": "https://localhost:8080/",
          "height": 35
        },
        "outputId": "dc132bb0-94e1-4b5a-9669-90f28c17d81d"
      },
      "outputs": [
        {
          "output_type": "execute_result",
          "data": {
            "text/plain": [
              "'from fairest creatures we desire increase,'"
            ],
            "application/vnd.google.colaboratory.intrinsic+json": {
              "type": "string"
            }
          },
          "metadata": {},
          "execution_count": 5
        }
      ],
      "source": [
        "corpus[0]"
      ]
    },
    {
      "cell_type": "markdown",
      "metadata": {
        "id": "XFMP4z11O3os"
      },
      "source": [
        "If you pass this text directly into the `texts_to_sequences` method you will get an unexpected result:"
      ]
    },
    {
      "cell_type": "code",
      "execution_count": 6,
      "metadata": {
        "id": "EMSEhmbzNZCE",
        "tags": [
          "graded"
        ],
        "colab": {
          "base_uri": "https://localhost:8080/"
        },
        "outputId": "bd893d12-a6f8-4c83-be94-499fdc3ec4ce"
      },
      "outputs": [
        {
          "output_type": "execute_result",
          "data": {
            "text/plain": [
              "[[],\n",
              " [],\n",
              " [58],\n",
              " [],\n",
              " [],\n",
              " [],\n",
              " [17],\n",
              " [6],\n",
              " [],\n",
              " [],\n",
              " [],\n",
              " [],\n",
              " [],\n",
              " [],\n",
              " [],\n",
              " [],\n",
              " [17],\n",
              " [],\n",
              " [],\n",
              " [],\n",
              " [],\n",
              " [],\n",
              " [],\n",
              " [],\n",
              " [],\n",
              " [],\n",
              " [],\n",
              " [],\n",
              " [],\n",
              " [6],\n",
              " [],\n",
              " [],\n",
              " [],\n",
              " [6],\n",
              " [],\n",
              " [],\n",
              " [],\n",
              " [],\n",
              " [17],\n",
              " [],\n",
              " [],\n",
              " []]"
            ]
          },
          "metadata": {},
          "execution_count": 6
        }
      ],
      "source": [
        "tokenizer.texts_to_sequences(corpus[0])"
      ]
    },
    {
      "cell_type": "markdown",
      "metadata": {
        "id": "pPZmZtpEPEeI"
      },
      "source": [
        "This happened because `texts_to_sequences` expects a list and you are providing a string. However a string is still and `iterable` in Python so you will get the word index of every character in the string.\n",
        "\n",
        "Instead you need to place the example whithin a list before passing it to the method:"
      ]
    },
    {
      "cell_type": "code",
      "execution_count": 7,
      "metadata": {
        "id": "Qmgo-vXhk4nd",
        "tags": [
          "graded"
        ],
        "colab": {
          "base_uri": "https://localhost:8080/"
        },
        "outputId": "17c754d9-e9fa-4657-cd85-d465e85a16b7"
      },
      "outputs": [
        {
          "output_type": "execute_result",
          "data": {
            "text/plain": [
              "[[34, 417, 877, 166, 213, 517]]"
            ]
          },
          "metadata": {},
          "execution_count": 7
        }
      ],
      "source": [
        "tokenizer.texts_to_sequences([corpus[0]])"
      ]
    },
    {
      "cell_type": "markdown",
      "metadata": {
        "id": "0DU7wK-eQ5dc"
      },
      "source": [
        "Notice that you received the sequence wrapped inside a list so in order to get only the desired sequence you need to explicitly get the first item in the list like this:"
      ]
    },
    {
      "cell_type": "code",
      "execution_count": 8,
      "metadata": {
        "id": "kpTy8WmIQ57P",
        "tags": [
          "graded"
        ],
        "colab": {
          "base_uri": "https://localhost:8080/"
        },
        "outputId": "cc78fa7f-a968-4082-8958-40329c75947d"
      },
      "outputs": [
        {
          "output_type": "execute_result",
          "data": {
            "text/plain": [
              "[34, 417, 877, 166, 213, 517]"
            ]
          },
          "metadata": {},
          "execution_count": 8
        }
      ],
      "source": [
        "tokenizer.texts_to_sequences([corpus[0]])[0]"
      ]
    },
    {
      "cell_type": "markdown",
      "metadata": {
        "id": "-oqy9KjXRJ9A"
      },
      "source": [
        "## Generating n_grams\n",
        "\n",
        "Now complete the `n_gram_seqs` function below. This function receives the fitted tokenizer and the corpus (which is a list of strings) and should return a list containing the `n_gram` sequences for each line in the corpus:"
      ]
    },
    {
      "cell_type": "code",
      "execution_count": 9,
      "metadata": {
        "id": "iy4baJMDl6kj",
        "tags": [
          "graded"
        ]
      },
      "outputs": [],
      "source": [
        "# GRADED FUNCTION: n_gram_seqs\n",
        "def n_gram_seqs(corpus, tokenizer):\n",
        "    \"\"\"\n",
        "    Generates a list of n-gram sequences\n",
        "    \n",
        "    Args:\n",
        "        corpus (list of string): lines of texts to generate n-grams for\n",
        "        tokenizer (object): an instance of the Tokenizer class containing the word-index dictionary\n",
        "    \n",
        "    Returns:\n",
        "        input_sequences (list of int): the n-gram sequences for each line in the corpus\n",
        "    \"\"\"\n",
        "    input_sequences = []\n",
        "    \n",
        "    ### START CODE HERE\n",
        "    # Loop over every line\n",
        "    for line in corpus:\n",
        "\n",
        "\t# Tokenize the current line\n",
        "\t      token_list = tokenizer.texts_to_sequences([line])[0]\n",
        "\n",
        "\t# Loop over the line several times to generate the subphrases\n",
        "\t      for i in range(1, len(token_list)):\n",
        "\t\t\n",
        "\t\t# Generate the subphrase\n",
        "\t\t       n_gram_sequence = token_list[:i+1]\n",
        "\n",
        "\t\t# Append the subphrase to the sequences list\n",
        "\t\t       input_sequences.append(n_gram_sequence)\n",
        "    ### END CODE HERE\n",
        "    \n",
        "    return input_sequences"
      ]
    },
    {
      "cell_type": "code",
      "execution_count": 10,
      "metadata": {
        "id": "DlKqW2pfM7G3",
        "tags": [
          "graded"
        ],
        "colab": {
          "base_uri": "https://localhost:8080/"
        },
        "outputId": "cc7ce7c0-06a9-4134-b91a-88171de067fc"
      },
      "outputs": [
        {
          "output_type": "stream",
          "name": "stdout",
          "text": [
            "n_gram sequences for first example look like this:\n",
            "\n"
          ]
        },
        {
          "output_type": "execute_result",
          "data": {
            "text/plain": [
              "[[34, 417],\n",
              " [34, 417, 877],\n",
              " [34, 417, 877, 166],\n",
              " [34, 417, 877, 166, 213],\n",
              " [34, 417, 877, 166, 213, 517]]"
            ]
          },
          "metadata": {},
          "execution_count": 10
        }
      ],
      "source": [
        "# Test your function with one example\n",
        "first_example_sequence = n_gram_seqs([corpus[0]], tokenizer)\n",
        "\n",
        "print(\"n_gram sequences for first example look like this:\\n\")\n",
        "first_example_sequence"
      ]
    },
    {
      "cell_type": "markdown",
      "metadata": {
        "id": "0HL8Ug6UU0Jt"
      },
      "source": [
        "**Expected Output:**\n",
        "\n",
        "```\n",
        "n_gram sequences for first example look like this:\n",
        "\n",
        "[[34, 417],\n",
        " [34, 417, 877],\n",
        " [34, 417, 877, 166],\n",
        " [34, 417, 877, 166, 213],\n",
        " [34, 417, 877, 166, 213, 517]]\n",
        "```"
      ]
    },
    {
      "cell_type": "code",
      "execution_count": 11,
      "metadata": {
        "id": "wtPpCcBjNc4c",
        "tags": [
          "graded"
        ],
        "colab": {
          "base_uri": "https://localhost:8080/"
        },
        "outputId": "0760b37a-aead-440d-c1fe-a64095530a05"
      },
      "outputs": [
        {
          "output_type": "stream",
          "name": "stdout",
          "text": [
            "n_gram sequences for next 3 examples look like this:\n",
            "\n"
          ]
        },
        {
          "output_type": "execute_result",
          "data": {
            "text/plain": [
              "[[8, 878],\n",
              " [8, 878, 134],\n",
              " [8, 878, 134, 351],\n",
              " [8, 878, 134, 351, 102],\n",
              " [8, 878, 134, 351, 102, 156],\n",
              " [8, 878, 134, 351, 102, 156, 199],\n",
              " [16, 22],\n",
              " [16, 22, 2],\n",
              " [16, 22, 2, 879],\n",
              " [16, 22, 2, 879, 61],\n",
              " [16, 22, 2, 879, 61, 30],\n",
              " [16, 22, 2, 879, 61, 30, 48],\n",
              " [16, 22, 2, 879, 61, 30, 48, 634],\n",
              " [25, 311],\n",
              " [25, 311, 635],\n",
              " [25, 311, 635, 102],\n",
              " [25, 311, 635, 102, 200],\n",
              " [25, 311, 635, 102, 200, 25],\n",
              " [25, 311, 635, 102, 200, 25, 278]]"
            ]
          },
          "metadata": {},
          "execution_count": 11
        }
      ],
      "source": [
        "# Test your function with a bigger corpus\n",
        "next_3_examples_sequence = n_gram_seqs(corpus[1:4], tokenizer)\n",
        "\n",
        "print(\"n_gram sequences for next 3 examples look like this:\\n\")\n",
        "next_3_examples_sequence"
      ]
    },
    {
      "cell_type": "markdown",
      "metadata": {
        "id": "EIzecMczU9UB"
      },
      "source": [
        "**Expected Output:**\n",
        "\n",
        "```\n",
        "n_gram sequences for next 3 examples look like this:\n",
        "\n",
        "[[8, 878],\n",
        " [8, 878, 134],\n",
        " [8, 878, 134, 351],\n",
        " [8, 878, 134, 351, 102],\n",
        " [8, 878, 134, 351, 102, 156],\n",
        " [8, 878, 134, 351, 102, 156, 199],\n",
        " [16, 22],\n",
        " [16, 22, 2],\n",
        " [16, 22, 2, 879],\n",
        " [16, 22, 2, 879, 61],\n",
        " [16, 22, 2, 879, 61, 30],\n",
        " [16, 22, 2, 879, 61, 30, 48],\n",
        " [16, 22, 2, 879, 61, 30, 48, 634],\n",
        " [25, 311],\n",
        " [25, 311, 635],\n",
        " [25, 311, 635, 102],\n",
        " [25, 311, 635, 102, 200],\n",
        " [25, 311, 635, 102, 200, 25],\n",
        " [25, 311, 635, 102, 200, 25, 278]]\n",
        "```"
      ]
    },
    {
      "cell_type": "markdown",
      "metadata": {
        "id": "dx3V_RjFWQSu"
      },
      "source": [
        "Apply the `n_gram_seqs` transformation to the whole corpus and save the maximum sequence length to use it later:"
      ]
    },
    {
      "cell_type": "code",
      "execution_count": 12,
      "metadata": {
        "id": "laMwiRUpmuSd",
        "tags": [
          "graded"
        ],
        "colab": {
          "base_uri": "https://localhost:8080/"
        },
        "outputId": "0ba54f53-b842-4e72-f1db-129b70c3404d"
      },
      "outputs": [
        {
          "output_type": "stream",
          "name": "stdout",
          "text": [
            "n_grams of input_sequences have length: 15462\n",
            "maximum length of sequences is: 11\n"
          ]
        }
      ],
      "source": [
        "# Apply the n_gram_seqs transformation to the whole corpus\n",
        "input_sequences = n_gram_seqs(corpus, tokenizer)\n",
        "\n",
        "# Save max length \n",
        "max_sequence_len = max([len(x) for x in input_sequences])\n",
        "\n",
        "print(f\"n_grams of input_sequences have length: {len(input_sequences)}\")\n",
        "print(f\"maximum length of sequences is: {max_sequence_len}\")"
      ]
    },
    {
      "cell_type": "markdown",
      "metadata": {
        "id": "2OciMdmEdE9L"
      },
      "source": [
        "**Expected Output:**\n",
        "\n",
        "```\n",
        "n_grams of input_sequences have length: 15462\n",
        "maximum length of sequences is: 11\n",
        "```"
      ]
    },
    {
      "cell_type": "markdown",
      "metadata": {
        "id": "zHY7HroqWq12"
      },
      "source": [
        "## Add padding to the sequences\n",
        "\n",
        "Now code the `pad_seqs` function which will pad any given sequences to the desired maximum length. Notice that this function receives a list of sequences and should return a numpy array with the padded sequences: "
      ]
    },
    {
      "cell_type": "code",
      "execution_count": 13,
      "metadata": {
        "cellView": "code",
        "id": "WW1-qAZaWOhC",
        "tags": [
          "graded"
        ]
      },
      "outputs": [],
      "source": [
        "# GRADED FUNCTION: pad_seqs\n",
        "def pad_seqs(input_sequences, maxlen):\n",
        "    \"\"\"\n",
        "    Pads tokenized sequences to the same length\n",
        "    \n",
        "    Args:\n",
        "        input_sequences (list of int): tokenized sequences to pad\n",
        "        maxlen (int): maximum length of the token sequences\n",
        "    \n",
        "    Returns:\n",
        "        padded_sequences (array of int): tokenized sequences padded to the same length\n",
        "    \"\"\"\n",
        "    ### START CODE HERE\n",
        "    padded_sequences = np.array(pad_sequences(input_sequences, maxlen=max_sequence_len, padding='pre'))\n",
        "    \n",
        "    return padded_sequences\n",
        "    ### END CODE HERE"
      ]
    },
    {
      "cell_type": "code",
      "execution_count": 14,
      "metadata": {
        "id": "IqVQ0pb3YHLr",
        "tags": [
          "graded"
        ],
        "colab": {
          "base_uri": "https://localhost:8080/"
        },
        "outputId": "aeaa5e85-00e3-4591-f7c9-e44591089dcd"
      },
      "outputs": [
        {
          "output_type": "execute_result",
          "data": {
            "text/plain": [
              "array([[  0,   0,   0,   0,   0,   0,   0,   0,   0,  34, 417],\n",
              "       [  0,   0,   0,   0,   0,   0,   0,   0,  34, 417, 877],\n",
              "       [  0,   0,   0,   0,   0,   0,   0,  34, 417, 877, 166],\n",
              "       [  0,   0,   0,   0,   0,   0,  34, 417, 877, 166, 213],\n",
              "       [  0,   0,   0,   0,   0,  34, 417, 877, 166, 213, 517]],\n",
              "      dtype=int32)"
            ]
          },
          "metadata": {},
          "execution_count": 14
        }
      ],
      "source": [
        "# Test your function with the n_grams_seq of the first example\n",
        "first_padded_seq = pad_seqs(first_example_sequence, len(first_example_sequence))\n",
        "first_padded_seq"
      ]
    },
    {
      "cell_type": "markdown",
      "metadata": {
        "id": "Re_avDznXRnU"
      },
      "source": [
        "**Expected Output:**\n",
        "\n",
        "```\n",
        "array([[  0,   0,   0,  34, 417],\n",
        "       [  0,   0,  34, 417, 877],\n",
        "       [  0,  34, 417, 877, 166],\n",
        "       [ 34, 417, 877, 166, 213],\n",
        "       [417, 877, 166, 213, 517]], dtype=int32)\n",
        "```"
      ]
    },
    {
      "cell_type": "code",
      "execution_count": 15,
      "metadata": {
        "id": "j56_UCOBYzZt",
        "tags": [
          "graded"
        ],
        "colab": {
          "base_uri": "https://localhost:8080/"
        },
        "outputId": "f69566bf-95ac-4d24-a0cd-58f739402b62"
      },
      "outputs": [
        {
          "output_type": "execute_result",
          "data": {
            "text/plain": [
              "array([[  0,   0,   0,   0,   0,   0,   0,   0,   0,   8, 878],\n",
              "       [  0,   0,   0,   0,   0,   0,   0,   0,   8, 878, 134],\n",
              "       [  0,   0,   0,   0,   0,   0,   0,   8, 878, 134, 351],\n",
              "       [  0,   0,   0,   0,   0,   0,   8, 878, 134, 351, 102],\n",
              "       [  0,   0,   0,   0,   0,   8, 878, 134, 351, 102, 156],\n",
              "       [  0,   0,   0,   0,   8, 878, 134, 351, 102, 156, 199],\n",
              "       [  0,   0,   0,   0,   0,   0,   0,   0,   0,  16,  22],\n",
              "       [  0,   0,   0,   0,   0,   0,   0,   0,  16,  22,   2],\n",
              "       [  0,   0,   0,   0,   0,   0,   0,  16,  22,   2, 879],\n",
              "       [  0,   0,   0,   0,   0,   0,  16,  22,   2, 879,  61],\n",
              "       [  0,   0,   0,   0,   0,  16,  22,   2, 879,  61,  30],\n",
              "       [  0,   0,   0,   0,  16,  22,   2, 879,  61,  30,  48],\n",
              "       [  0,   0,   0,  16,  22,   2, 879,  61,  30,  48, 634],\n",
              "       [  0,   0,   0,   0,   0,   0,   0,   0,   0,  25, 311],\n",
              "       [  0,   0,   0,   0,   0,   0,   0,   0,  25, 311, 635],\n",
              "       [  0,   0,   0,   0,   0,   0,   0,  25, 311, 635, 102],\n",
              "       [  0,   0,   0,   0,   0,   0,  25, 311, 635, 102, 200],\n",
              "       [  0,   0,   0,   0,   0,  25, 311, 635, 102, 200,  25],\n",
              "       [  0,   0,   0,   0,  25, 311, 635, 102, 200,  25, 278]],\n",
              "      dtype=int32)"
            ]
          },
          "metadata": {},
          "execution_count": 15
        }
      ],
      "source": [
        "# Test your function with the n_grams_seq of the next 3 examples\n",
        "next_3_padded_seq = pad_seqs(next_3_examples_sequence, max([len(s) for s in next_3_examples_sequence]))\n",
        "next_3_padded_seq"
      ]
    },
    {
      "cell_type": "markdown",
      "metadata": {
        "id": "3rmcDluOXcIU"
      },
      "source": [
        "**Expected Output:**\n",
        "\n",
        "```\n",
        "array([[  0,   0,   0,   0,   0,   0,   8, 878],\n",
        "       [  0,   0,   0,   0,   0,   8, 878, 134],\n",
        "       [  0,   0,   0,   0,   8, 878, 134, 351],\n",
        "       [  0,   0,   0,   8, 878, 134, 351, 102],\n",
        "       [  0,   0,   8, 878, 134, 351, 102, 156],\n",
        "       [  0,   8, 878, 134, 351, 102, 156, 199],\n",
        "       [  0,   0,   0,   0,   0,   0,  16,  22],\n",
        "       [  0,   0,   0,   0,   0,  16,  22,   2],\n",
        "       [  0,   0,   0,   0,  16,  22,   2, 879],\n",
        "       [  0,   0,   0,  16,  22,   2, 879,  61],\n",
        "       [  0,   0,  16,  22,   2, 879,  61,  30],\n",
        "       [  0,  16,  22,   2, 879,  61,  30,  48],\n",
        "       [ 16,  22,   2, 879,  61,  30,  48, 634],\n",
        "       [  0,   0,   0,   0,   0,   0,  25, 311],\n",
        "       [  0,   0,   0,   0,   0,  25, 311, 635],\n",
        "       [  0,   0,   0,   0,  25, 311, 635, 102],\n",
        "       [  0,   0,   0,  25, 311, 635, 102, 200],\n",
        "       [  0,   0,  25, 311, 635, 102, 200,  25],\n",
        "       [  0,  25, 311, 635, 102, 200,  25, 278]], dtype=int32)\n",
        "```"
      ]
    },
    {
      "cell_type": "code",
      "execution_count": 16,
      "metadata": {
        "id": "rgK-Q_micEYA",
        "tags": [
          "graded"
        ],
        "colab": {
          "base_uri": "https://localhost:8080/"
        },
        "outputId": "a4c2cae1-28d5-484f-934d-d131eae81075"
      },
      "outputs": [
        {
          "output_type": "stream",
          "name": "stdout",
          "text": [
            "padded corpus has shape: (15462, 11)\n"
          ]
        }
      ],
      "source": [
        "# Pad the whole corpus\n",
        "input_sequences = pad_seqs(input_sequences, max_sequence_len)\n",
        "\n",
        "print(f\"padded corpus has shape: {input_sequences.shape}\")"
      ]
    },
    {
      "cell_type": "markdown",
      "metadata": {
        "id": "59RD1YYNc7CW"
      },
      "source": [
        "**Expected Output:**\n",
        "\n",
        "```\n",
        "padded corpus has shape: (15462, 11)\n",
        "```"
      ]
    },
    {
      "cell_type": "markdown",
      "metadata": {
        "id": "ZbOidyPrXxf7"
      },
      "source": [
        "## Split the data into features and labels\n",
        "\n",
        "Before feeding the data into the neural network you should split it into features and labels. In this case the features will be the padded n_gram sequences with the last word removed from them and the labels will be the removed word.\n",
        "\n",
        "Complete the `features_and_labels` function below. This function expects the padded n_gram sequences as input and should return a tuple containing the features and the one hot encoded labels.\n",
        "\n",
        "Notice that the function also receives the total of words in the corpus, this parameter will be very important when one hot enconding the labels since every word in the corpus will be a label at least once. If you need a refresh of how the `to_categorical` function works take a look at the [docs](https://www.tensorflow.org/api_docs/python/tf/keras/utils/to_categorical)"
      ]
    },
    {
      "cell_type": "code",
      "execution_count": 17,
      "metadata": {
        "cellView": "code",
        "id": "9WGGbYdnZdmJ",
        "tags": [
          "graded"
        ]
      },
      "outputs": [],
      "source": [
        "# GRADED FUNCTION: features_and_labels\n",
        "def features_and_labels(input_sequences, total_words):\n",
        "    \"\"\"\n",
        "    Generates features and labels from n-grams\n",
        "    \n",
        "    Args:\n",
        "        input_sequences (list of int): sequences to split features and labels from\n",
        "        total_words (int): vocabulary size\n",
        "    \n",
        "    Returns:\n",
        "        features, one_hot_labels (array of int, array of int): arrays of features and one-hot encoded labels\n",
        "    \"\"\"\n",
        "    ### START CODE HERE\n",
        "    features = input_sequences[:, :-1]\n",
        "    labels =  input_sequences[:, -1]\n",
        "    one_hot_labels = tf.keras.utils.to_categorical(labels, num_classes=total_words)\\\n",
        "    ### END CODE HERE\n",
        "\n",
        "    return features, one_hot_labels"
      ]
    },
    {
      "cell_type": "code",
      "execution_count": 18,
      "metadata": {
        "id": "23DolaBRaIAZ",
        "tags": [
          "graded"
        ],
        "colab": {
          "base_uri": "https://localhost:8080/"
        },
        "outputId": "6ec353bc-b066-4132-ef6a-88b118bdd64c"
      },
      "outputs": [
        {
          "output_type": "stream",
          "name": "stdout",
          "text": [
            "labels have shape: (5, 3211)\n",
            "\n",
            "features look like this:\n",
            "\n"
          ]
        },
        {
          "output_type": "execute_result",
          "data": {
            "text/plain": [
              "array([[  0,   0,   0,   0,   0,   0,   0,   0,   0,  34],\n",
              "       [  0,   0,   0,   0,   0,   0,   0,   0,  34, 417],\n",
              "       [  0,   0,   0,   0,   0,   0,   0,  34, 417, 877],\n",
              "       [  0,   0,   0,   0,   0,   0,  34, 417, 877, 166],\n",
              "       [  0,   0,   0,   0,   0,  34, 417, 877, 166, 213]], dtype=int32)"
            ]
          },
          "metadata": {},
          "execution_count": 18
        }
      ],
      "source": [
        "# Test your function with the padded n_grams_seq of the first example\n",
        "first_features, first_labels = features_and_labels(first_padded_seq, total_words)\n",
        "\n",
        "print(f\"labels have shape: {first_labels.shape}\")\n",
        "print(\"\\nfeatures look like this:\\n\")\n",
        "first_features"
      ]
    },
    {
      "cell_type": "markdown",
      "metadata": {
        "id": "7t4yAx2UaQ43"
      },
      "source": [
        "**Expected Output:**\n",
        "\n",
        "```\n",
        "labels have shape: (5, 3211)\n",
        "\n",
        "features look like this:\n",
        "\n",
        "array([[  0,   0,   0,  34],\n",
        "       [  0,   0,  34, 417],\n",
        "       [  0,  34, 417, 877],\n",
        "       [ 34, 417, 877, 166],\n",
        "       [417, 877, 166, 213]], dtype=int32)\n",
        "```"
      ]
    },
    {
      "cell_type": "code",
      "execution_count": 19,
      "metadata": {
        "id": "GRTuLEt3bRKa",
        "tags": [
          "graded"
        ],
        "colab": {
          "base_uri": "https://localhost:8080/"
        },
        "outputId": "78a625ed-b00f-42dc-9162-4b35a35cde69"
      },
      "outputs": [
        {
          "output_type": "stream",
          "name": "stdout",
          "text": [
            "features have shape: (15462, 10)\n",
            "labels have shape: (15462, 3211)\n"
          ]
        }
      ],
      "source": [
        "# Split the whole corpus\n",
        "features, labels = features_and_labels(input_sequences, total_words)\n",
        "\n",
        "print(f\"features have shape: {features.shape}\")\n",
        "print(f\"labels have shape: {labels.shape}\")"
      ]
    },
    {
      "cell_type": "markdown",
      "metadata": {
        "id": "xXSMK_HpdLns"
      },
      "source": [
        "**Expected Output:**\n",
        "\n",
        "```\n",
        "features have shape: (15462, 10)\n",
        "labels have shape: (15462, 3211)\n",
        "```"
      ]
    },
    {
      "cell_type": "markdown",
      "metadata": {
        "id": "ltxaOCE_aU6J"
      },
      "source": [
        "## Create the model\n",
        "\n",
        "Now you should define a model architecture capable of achieving an accuracy of at least 80%.\n",
        "\n",
        "Some hints to help you in this task:\n",
        "\n",
        "- An appropriate `output_dim` for the first layer (Embedding) is 100, this is already provided for you.\n",
        "- A Bidirectional LSTM is helpful for this particular problem.\n",
        "- The last layer should have the same number of units as the total number of words in the corpus and a softmax activation function.\n",
        "- This problem can be solved with only two layers (excluding the Embedding) so try out small architectures first."
      ]
    },
    {
      "cell_type": "code",
      "execution_count": 20,
      "metadata": {
        "cellView": "code",
        "id": "XrE6kpJFfvRY",
        "tags": [
          "graded"
        ]
      },
      "outputs": [],
      "source": [
        "# GRADED FUNCTION: create_model\n",
        "def create_model(total_words, max_sequence_len):\n",
        "    \"\"\"\n",
        "    Creates a text generator model\n",
        "    \n",
        "    Args:\n",
        "        total_words (int): size of the vocabulary for the Embedding layer input\n",
        "        max_sequence_len (int): length of the input sequences\n",
        "    \n",
        "    Returns:\n",
        "        model (tf.keras Model): the text generator model\n",
        "    \"\"\"\n",
        "    model = Sequential()\n",
        "    ### START CODE HERE\n",
        "    model.add(Embedding(total_words, 128, input_length=max_sequence_len - 1))\n",
        "    model.add(Bidirectional(LSTM(256, return_sequences=True)))\n",
        "    model.add(Dropout(0.2))\n",
        "    model.add(LSTM(256))\n",
        "    model.add(Dense(128, activation='relu'))\n",
        "    model.add(Dense(total_words, activation='softmax'))\n",
        "\n",
        "\n",
        "    # Compile the model\n",
        "    model.compile(optimizer='adam', \n",
        "                  loss='categorical_crossentropy', \n",
        "                  metrics=['accuracy'])\n",
        "    \n",
        "    ### END CODE HERE\n",
        "\n",
        "    return model"
      ]
    },
    {
      "cell_type": "code",
      "execution_count": 21,
      "metadata": {
        "id": "0IpX_Gu_gISk",
        "tags": [],
        "colab": {
          "base_uri": "https://localhost:8080/"
        },
        "outputId": "1cde71df-45de-4189-a891-262a92e05699"
      },
      "outputs": [
        {
          "output_type": "stream",
          "name": "stdout",
          "text": [
            "Epoch 1/120\n",
            "484/484 [==============================] - 20s 22ms/step - loss: 6.8042 - accuracy: 0.0237\n",
            "Epoch 2/120\n",
            "484/484 [==============================] - 10s 21ms/step - loss: 6.3995 - accuracy: 0.0330\n",
            "Epoch 3/120\n",
            "484/484 [==============================] - 10s 20ms/step - loss: 6.2373 - accuracy: 0.0357\n",
            "Epoch 4/120\n",
            "484/484 [==============================] - 10s 20ms/step - loss: 6.1218 - accuracy: 0.0387\n",
            "Epoch 5/120\n",
            "484/484 [==============================] - 10s 20ms/step - loss: 6.0178 - accuracy: 0.0417\n",
            "Epoch 6/120\n",
            "484/484 [==============================] - 10s 20ms/step - loss: 5.9105 - accuracy: 0.0454\n",
            "Epoch 7/120\n",
            "484/484 [==============================] - 10s 21ms/step - loss: 5.7887 - accuracy: 0.0495\n",
            "Epoch 8/120\n",
            "484/484 [==============================] - 10s 20ms/step - loss: 5.6546 - accuracy: 0.0548\n",
            "Epoch 9/120\n",
            "484/484 [==============================] - 10s 20ms/step - loss: 5.5198 - accuracy: 0.0598\n",
            "Epoch 10/120\n",
            "484/484 [==============================] - 10s 20ms/step - loss: 5.3882 - accuracy: 0.0634\n",
            "Epoch 11/120\n",
            "484/484 [==============================] - 10s 20ms/step - loss: 5.2661 - accuracy: 0.0699\n",
            "Epoch 12/120\n",
            "484/484 [==============================] - 10s 20ms/step - loss: 5.1330 - accuracy: 0.0785\n",
            "Epoch 13/120\n",
            "484/484 [==============================] - 10s 20ms/step - loss: 5.0116 - accuracy: 0.0866\n",
            "Epoch 14/120\n",
            "484/484 [==============================] - 10s 20ms/step - loss: 4.8805 - accuracy: 0.0918\n",
            "Epoch 15/120\n",
            "484/484 [==============================] - 10s 20ms/step - loss: 4.7545 - accuracy: 0.1016\n",
            "Epoch 16/120\n",
            "484/484 [==============================] - 10s 20ms/step - loss: 4.6254 - accuracy: 0.1042\n",
            "Epoch 17/120\n",
            "484/484 [==============================] - 10s 20ms/step - loss: 4.5063 - accuracy: 0.1153\n",
            "Epoch 18/120\n",
            "484/484 [==============================] - 10s 20ms/step - loss: 4.3850 - accuracy: 0.1232\n",
            "Epoch 19/120\n",
            "484/484 [==============================] - 10s 20ms/step - loss: 4.2671 - accuracy: 0.1332\n",
            "Epoch 20/120\n",
            "484/484 [==============================] - 10s 20ms/step - loss: 4.1435 - accuracy: 0.1432\n",
            "Epoch 21/120\n",
            "484/484 [==============================] - 10s 20ms/step - loss: 4.0298 - accuracy: 0.1538\n",
            "Epoch 22/120\n",
            "484/484 [==============================] - 10s 20ms/step - loss: 3.9152 - accuracy: 0.1665\n",
            "Epoch 23/120\n",
            "484/484 [==============================] - 10s 20ms/step - loss: 3.7986 - accuracy: 0.1828\n",
            "Epoch 24/120\n",
            "484/484 [==============================] - 10s 20ms/step - loss: 3.6811 - accuracy: 0.2033\n",
            "Epoch 25/120\n",
            "484/484 [==============================] - 10s 20ms/step - loss: 3.5780 - accuracy: 0.2156\n",
            "Epoch 26/120\n",
            "484/484 [==============================] - 10s 20ms/step - loss: 3.4763 - accuracy: 0.2278\n",
            "Epoch 27/120\n",
            "484/484 [==============================] - 10s 20ms/step - loss: 3.3659 - accuracy: 0.2527\n",
            "Epoch 28/120\n",
            "484/484 [==============================] - 10s 20ms/step - loss: 3.2625 - accuracy: 0.2659\n",
            "Epoch 29/120\n",
            "484/484 [==============================] - 10s 20ms/step - loss: 3.1645 - accuracy: 0.2835\n",
            "Epoch 30/120\n",
            "484/484 [==============================] - 10s 20ms/step - loss: 3.0520 - accuracy: 0.3021\n",
            "Epoch 31/120\n",
            "484/484 [==============================] - 9s 20ms/step - loss: 2.9536 - accuracy: 0.3231\n",
            "Epoch 32/120\n",
            "484/484 [==============================] - 10s 20ms/step - loss: 2.8595 - accuracy: 0.3384\n",
            "Epoch 33/120\n",
            "484/484 [==============================] - 9s 20ms/step - loss: 2.7784 - accuracy: 0.3544\n",
            "Epoch 34/120\n",
            "484/484 [==============================] - 10s 20ms/step - loss: 2.6769 - accuracy: 0.3779\n",
            "Epoch 35/120\n",
            "484/484 [==============================] - 9s 20ms/step - loss: 2.5910 - accuracy: 0.3954\n",
            "Epoch 36/120\n",
            "484/484 [==============================] - 9s 20ms/step - loss: 2.5006 - accuracy: 0.4146\n",
            "Epoch 37/120\n",
            "484/484 [==============================] - 9s 20ms/step - loss: 2.4221 - accuracy: 0.4289\n",
            "Epoch 38/120\n",
            "484/484 [==============================] - 10s 20ms/step - loss: 2.3388 - accuracy: 0.4468\n",
            "Epoch 39/120\n",
            "484/484 [==============================] - 10s 20ms/step - loss: 2.2716 - accuracy: 0.4628\n",
            "Epoch 40/120\n",
            "484/484 [==============================] - 9s 19ms/step - loss: 2.1992 - accuracy: 0.4796\n",
            "Epoch 41/120\n",
            "484/484 [==============================] - 10s 20ms/step - loss: 2.1232 - accuracy: 0.4959\n",
            "Epoch 42/120\n",
            "484/484 [==============================] - 10s 20ms/step - loss: 2.0519 - accuracy: 0.5133\n",
            "Epoch 43/120\n",
            "484/484 [==============================] - 10s 20ms/step - loss: 1.9751 - accuracy: 0.5257\n",
            "Epoch 44/120\n",
            "484/484 [==============================] - 10s 20ms/step - loss: 1.9158 - accuracy: 0.5422\n",
            "Epoch 45/120\n",
            "484/484 [==============================] - 10s 20ms/step - loss: 1.8786 - accuracy: 0.5506\n",
            "Epoch 46/120\n",
            "484/484 [==============================] - 10s 20ms/step - loss: 1.8070 - accuracy: 0.5677\n",
            "Epoch 47/120\n",
            "484/484 [==============================] - 10s 20ms/step - loss: 1.7519 - accuracy: 0.5807\n",
            "Epoch 48/120\n",
            "484/484 [==============================] - 10s 20ms/step - loss: 1.7053 - accuracy: 0.5872\n",
            "Epoch 49/120\n",
            "484/484 [==============================] - 10s 20ms/step - loss: 1.6414 - accuracy: 0.6070\n",
            "Epoch 50/120\n",
            "484/484 [==============================] - 10s 20ms/step - loss: 1.6080 - accuracy: 0.6171\n",
            "Epoch 51/120\n",
            "484/484 [==============================] - 10s 20ms/step - loss: 1.5601 - accuracy: 0.6261\n",
            "Epoch 52/120\n",
            "484/484 [==============================] - 10s 20ms/step - loss: 1.5193 - accuracy: 0.6349\n",
            "Epoch 53/120\n",
            "484/484 [==============================] - 10s 20ms/step - loss: 1.4835 - accuracy: 0.6443\n",
            "Epoch 54/120\n",
            "484/484 [==============================] - 10s 20ms/step - loss: 1.4374 - accuracy: 0.6559\n",
            "Epoch 55/120\n",
            "484/484 [==============================] - 10s 20ms/step - loss: 1.3853 - accuracy: 0.6676\n",
            "Epoch 56/120\n",
            "484/484 [==============================] - 10s 20ms/step - loss: 1.3657 - accuracy: 0.6686\n",
            "Epoch 57/120\n",
            "484/484 [==============================] - 10s 20ms/step - loss: 1.3344 - accuracy: 0.6786\n",
            "Epoch 58/120\n",
            "484/484 [==============================] - 10s 20ms/step - loss: 1.3021 - accuracy: 0.6833\n",
            "Epoch 59/120\n",
            "484/484 [==============================] - 10s 20ms/step - loss: 1.2725 - accuracy: 0.6903\n",
            "Epoch 60/120\n",
            "484/484 [==============================] - 10s 20ms/step - loss: 1.2447 - accuracy: 0.6976\n",
            "Epoch 61/120\n",
            "484/484 [==============================] - 10s 20ms/step - loss: 1.2275 - accuracy: 0.6979\n",
            "Epoch 62/120\n",
            "484/484 [==============================] - 10s 20ms/step - loss: 1.1820 - accuracy: 0.7112\n",
            "Epoch 63/120\n",
            "484/484 [==============================] - 10s 20ms/step - loss: 1.1804 - accuracy: 0.7141\n",
            "Epoch 64/120\n",
            "484/484 [==============================] - 10s 20ms/step - loss: 1.1596 - accuracy: 0.7143\n",
            "Epoch 65/120\n",
            "484/484 [==============================] - 10s 20ms/step - loss: 1.1493 - accuracy: 0.7147\n",
            "Epoch 66/120\n",
            "484/484 [==============================] - 9s 20ms/step - loss: 1.1144 - accuracy: 0.7244\n",
            "Epoch 67/120\n",
            "484/484 [==============================] - 10s 20ms/step - loss: 1.0914 - accuracy: 0.7301\n",
            "Epoch 68/120\n",
            "484/484 [==============================] - 10s 20ms/step - loss: 1.0658 - accuracy: 0.7359\n",
            "Epoch 69/120\n",
            "484/484 [==============================] - 10s 20ms/step - loss: 1.0478 - accuracy: 0.7406\n",
            "Epoch 70/120\n",
            "484/484 [==============================] - 10s 20ms/step - loss: 1.0353 - accuracy: 0.7428\n",
            "Epoch 71/120\n",
            "484/484 [==============================] - 10s 20ms/step - loss: 1.0248 - accuracy: 0.7432\n",
            "Epoch 72/120\n",
            "484/484 [==============================] - 10s 20ms/step - loss: 1.0093 - accuracy: 0.7458\n",
            "Epoch 73/120\n",
            "484/484 [==============================] - 10s 20ms/step - loss: 0.9949 - accuracy: 0.7524\n",
            "Epoch 74/120\n",
            "484/484 [==============================] - 9s 20ms/step - loss: 0.9805 - accuracy: 0.7536\n",
            "Epoch 75/120\n",
            "484/484 [==============================] - 9s 20ms/step - loss: 0.9559 - accuracy: 0.7608\n",
            "Epoch 76/120\n",
            "484/484 [==============================] - 10s 20ms/step - loss: 0.9548 - accuracy: 0.7562\n",
            "Epoch 77/120\n",
            "484/484 [==============================] - 10s 20ms/step - loss: 0.9659 - accuracy: 0.7559\n",
            "Epoch 78/120\n",
            "484/484 [==============================] - 10s 20ms/step - loss: 0.9540 - accuracy: 0.7555\n",
            "Epoch 79/120\n",
            "484/484 [==============================] - 10s 20ms/step - loss: 0.9299 - accuracy: 0.7656\n",
            "Epoch 80/120\n",
            "484/484 [==============================] - 10s 20ms/step - loss: 0.9103 - accuracy: 0.7657\n",
            "Epoch 81/120\n",
            "484/484 [==============================] - 9s 19ms/step - loss: 0.8927 - accuracy: 0.7716\n",
            "Epoch 82/120\n",
            "484/484 [==============================] - 9s 19ms/step - loss: 0.8802 - accuracy: 0.7733\n",
            "Epoch 83/120\n",
            "484/484 [==============================] - 9s 20ms/step - loss: 0.8678 - accuracy: 0.7764\n",
            "Epoch 84/120\n",
            "484/484 [==============================] - 9s 20ms/step - loss: 0.8668 - accuracy: 0.7774\n",
            "Epoch 85/120\n",
            "484/484 [==============================] - 9s 19ms/step - loss: 0.8707 - accuracy: 0.7733\n",
            "Epoch 86/120\n",
            "484/484 [==============================] - 9s 19ms/step - loss: 0.8822 - accuracy: 0.7726\n",
            "Epoch 87/120\n",
            "484/484 [==============================] - 10s 20ms/step - loss: 0.8357 - accuracy: 0.7821\n",
            "Epoch 88/120\n",
            "484/484 [==============================] - 10s 20ms/step - loss: 0.8326 - accuracy: 0.7817\n",
            "Epoch 89/120\n",
            "484/484 [==============================] - 10s 20ms/step - loss: 0.8283 - accuracy: 0.7817\n",
            "Epoch 90/120\n",
            "484/484 [==============================] - 9s 19ms/step - loss: 0.8194 - accuracy: 0.7857\n",
            "Epoch 91/120\n",
            "484/484 [==============================] - 9s 20ms/step - loss: 0.8157 - accuracy: 0.7852\n",
            "Epoch 92/120\n",
            "484/484 [==============================] - 10s 20ms/step - loss: 0.8017 - accuracy: 0.7884\n",
            "Epoch 93/120\n",
            "484/484 [==============================] - 10s 20ms/step - loss: 0.8035 - accuracy: 0.7916\n",
            "Epoch 94/120\n",
            "484/484 [==============================] - 10s 20ms/step - loss: 0.8100 - accuracy: 0.7847\n",
            "Epoch 95/120\n",
            "484/484 [==============================] - 10s 20ms/step - loss: 0.7962 - accuracy: 0.7906\n",
            "Epoch 96/120\n",
            "484/484 [==============================] - 10s 20ms/step - loss: 0.7894 - accuracy: 0.7942\n",
            "Epoch 97/120\n",
            "484/484 [==============================] - 10s 20ms/step - loss: 0.7657 - accuracy: 0.7999\n",
            "Epoch 98/120\n",
            "484/484 [==============================] - 10s 20ms/step - loss: 0.7698 - accuracy: 0.7992\n",
            "Epoch 99/120\n",
            "484/484 [==============================] - 9s 20ms/step - loss: 0.7476 - accuracy: 0.8026\n",
            "Epoch 100/120\n",
            "484/484 [==============================] - 9s 20ms/step - loss: 0.7382 - accuracy: 0.8038\n",
            "Epoch 101/120\n",
            "484/484 [==============================] - 9s 20ms/step - loss: 0.7494 - accuracy: 0.8021\n",
            "Epoch 102/120\n",
            "484/484 [==============================] - 9s 20ms/step - loss: 0.7556 - accuracy: 0.7994\n",
            "Epoch 103/120\n",
            "484/484 [==============================] - 10s 20ms/step - loss: 0.7506 - accuracy: 0.7998\n",
            "Epoch 104/120\n",
            "484/484 [==============================] - 10s 20ms/step - loss: 0.7559 - accuracy: 0.8000\n",
            "Epoch 105/120\n",
            "484/484 [==============================] - 10s 20ms/step - loss: 0.7377 - accuracy: 0.8016\n",
            "Epoch 106/120\n",
            "484/484 [==============================] - 10s 20ms/step - loss: 0.7241 - accuracy: 0.8077\n",
            "Epoch 107/120\n",
            "484/484 [==============================] - 10s 20ms/step - loss: 0.7133 - accuracy: 0.8107\n",
            "Epoch 108/120\n",
            "484/484 [==============================] - 10s 20ms/step - loss: 0.7221 - accuracy: 0.8077\n",
            "Epoch 109/120\n",
            "484/484 [==============================] - 10s 20ms/step - loss: 0.7205 - accuracy: 0.8074\n",
            "Epoch 110/120\n",
            "484/484 [==============================] - 10s 20ms/step - loss: 0.6947 - accuracy: 0.8126\n",
            "Epoch 111/120\n",
            "484/484 [==============================] - 9s 20ms/step - loss: 0.7025 - accuracy: 0.8090\n",
            "Epoch 112/120\n",
            "484/484 [==============================] - 10s 20ms/step - loss: 0.7158 - accuracy: 0.8083\n",
            "Epoch 113/120\n",
            "484/484 [==============================] - 10s 20ms/step - loss: 0.7138 - accuracy: 0.8084\n",
            "Epoch 114/120\n",
            "484/484 [==============================] - 10s 20ms/step - loss: 0.6950 - accuracy: 0.8123\n",
            "Epoch 115/120\n",
            "484/484 [==============================] - 10s 20ms/step - loss: 0.7009 - accuracy: 0.8106\n",
            "Epoch 116/120\n",
            "484/484 [==============================] - 9s 20ms/step - loss: 0.6998 - accuracy: 0.8097\n",
            "Epoch 117/120\n",
            "484/484 [==============================] - 10s 20ms/step - loss: 0.6835 - accuracy: 0.8179\n",
            "Epoch 118/120\n",
            "484/484 [==============================] - 10s 20ms/step - loss: 0.6738 - accuracy: 0.8183\n",
            "Epoch 119/120\n",
            "484/484 [==============================] - 10s 20ms/step - loss: 0.6723 - accuracy: 0.8170\n",
            "Epoch 120/120\n",
            "484/484 [==============================] - 10s 20ms/step - loss: 0.6925 - accuracy: 0.8122\n"
          ]
        }
      ],
      "source": [
        "# Get the untrained model\n",
        "model = create_model(total_words, max_sequence_len)\n",
        "\n",
        "# Train the model\n",
        "history = model.fit(features, labels, epochs=120, verbose=1)"
      ]
    },
    {
      "cell_type": "markdown",
      "metadata": {
        "id": "gy72RPgly55q"
      },
      "source": [
        "**To pass this assignment, your model should achieve a training accuracy of at least 80%**. If your model didn't achieve this threshold, try training again with a different model architecture, consider increasing the number of unit in your `LSTM` layer."
      ]
    },
    {
      "cell_type": "code",
      "execution_count": 22,
      "metadata": {
        "id": "1fXTEO3GJ282",
        "tags": [],
        "colab": {
          "base_uri": "https://localhost:8080/",
          "height": 545
        },
        "outputId": "6cc8204b-0242-4463-8216-99017d92730e"
      },
      "outputs": [
        {
          "output_type": "display_data",
          "data": {
            "text/plain": [
              "<Figure size 432x288 with 1 Axes>"
            ],
            "image/png": "[encoded data removed]"
          },
          "metadata": {
            "needs_background": "light"
          }
        },
        {
          "output_type": "display_data",
          "data": {
            "text/plain": [
              "<Figure size 432x288 with 1 Axes>"
            ],
            "image/png": "[encoded data removed]"
          },
          "metadata": {
            "needs_background": "light"
          }
        }
      ],
      "source": [
        "# Take a look at the training curves of your model\n",
        "\n",
        "acc = history.history['accuracy']\n",
        "loss = history.history['loss']\n",
        "\n",
        "epochs = range(len(acc))\n",
        "\n",
        "plt.plot(epochs, acc, 'b', label='Training accuracy')\n",
        "plt.title('Training accuracy')\n",
        "\n",
        "plt.figure()\n",
        "\n",
        "plt.plot(epochs, loss, 'b', label='Training Loss')\n",
        "plt.title('Training loss')\n",
        "plt.legend()\n",
        "\n",
        "plt.show()"
      ]
    },
    {
      "cell_type": "markdown",
      "metadata": {
        "id": "OjvED5A3qrn2"
      },
      "source": [
        "Before closing the assignment, be sure to also download the `history.pkl` file which contains the information of the training history of your model and will be used to compute your grade. You can download this file by running the cell below:"
      ]
    },
    {
      "cell_type": "code",
      "execution_count": 23,
      "metadata": {
        "id": "9QRG73l6qE-c",
        "tags": [],
        "colab": {
          "base_uri": "https://localhost:8080/",
          "height": 17
        },
        "outputId": "9b01d086-4905-4e82-9a63-3335d8e949e4"
      },
      "outputs": [
        {
          "output_type": "display_data",
          "data": {
            "text/plain": [
              "<IPython.core.display.Javascript object>"
            ],
            "application/javascript": [
              "\n",
              "    async function download(id, filename, size) {\n",
              "      if (!google.colab.kernel.accessAllowed) {\n",
              "        return;\n",
              "      }\n",
              "      const div = document.createElement('div');\n",
              "      const label = document.createElement('label');\n",
              "      label.textContent = `Downloading \"${filename}\": `;\n",
              "      div.appendChild(label);\n",
              "      const progress = document.createElement('progress');\n",
              "      progress.max = size;\n",
              "      div.appendChild(progress);\n",
              "      document.body.appendChild(div);\n",
              "\n",
              "      const buffers = [];\n",
              "      let downloaded = 0;\n",
              "\n",
              "      const channel = await google.colab.kernel.comms.open(id);\n",
              "      // Send a message to notify the kernel that we're ready.\n",
              "      channel.send({})\n",
              "\n",
              "      for await (const message of channel.messages) {\n",
              "        // Send a message to notify the kernel that we're ready.\n",
              "        channel.send({})\n",
              "        if (message.buffers) {\n",
              "          for (const buffer of message.buffers) {\n",
              "            buffers.push(buffer);\n",
              "            downloaded += buffer.byteLength;\n",
              "            progress.value = downloaded;\n",
              "          }\n",
              "        }\n",
              "      }\n",
              "      const blob = new Blob(buffers, {type: 'application/binary'});\n",
              "      const a = document.createElement('a');\n",
              "      a.href = window.URL.createObjectURL(blob);\n",
              "      a.download = filename;\n",
              "      div.appendChild(a);\n",
              "      a.click();\n",
              "      div.remove();\n",
              "    }\n",
              "  "
            ]
          },
          "metadata": {}
        },
        {
          "output_type": "display_data",
          "data": {
            "text/plain": [
              "<IPython.core.display.Javascript object>"
            ],
            "application/javascript": [
              "download(\"download_adaf1cc7-bd52-4129-90f5-875ffac39ed8\", \"history.pkl\", 2204)"
            ]
          },
          "metadata": {}
        }
      ],
      "source": [
        "def download_history():\n",
        "  import pickle\n",
        "  from google.colab import files\n",
        "\n",
        "  with open('history.pkl', 'wb') as f:\n",
        "    pickle.dump(history.history, f)\n",
        "\n",
        "  files.download('history.pkl')\n",
        "\n",
        "download_history()"
      ]
    },
    {
      "cell_type": "markdown",
      "metadata": {
        "id": "wdsMszk9zBs_"
      },
      "source": [
        "## See your model in action\n",
        "\n",
        "After all your work it is finally time to see your model generating text. \n",
        "\n",
        "Run the cell below to generate the next 100 words of a seed text.\n",
        "\n",
        "After submitting your assignment you are encouraged to try out training for different amounts of epochs and seeing how this affects the coherency of the generated text. Also try changing the seed text to see what you get!"
      ]
    },
    {
      "cell_type": "code",
      "execution_count": 24,
      "metadata": {
        "id": "6Vc6PHgxa6Hm",
        "tags": [],
        "colab": {
          "base_uri": "https://localhost:8080/"
        },
        "outputId": "01797bf0-6718-432c-e242-3627707c573e"
      },
      "outputs": [
        {
          "output_type": "stream",
          "name": "stdout",
          "text": [
            "Help me Obi Wan Kenobi, you're my only hope and makes his swift foot back on outworn life tuned lies made fix'd in store before room shows love's end is 'greeing devise some made another oaths on to use men's 'no ' be say stol'n in still respect touches love we speed luck be twain ever level new made such bright mine eyes exceeds grows dead buried prove dead light find faring bright did shine shall lie with my grief ' hard skill doth publish hate some wantonness new whoever shows every antique book new ill hate 'will be holds him so dead twain now thine oppress'd with thee\n"
          ]
        }
      ],
      "source": [
        "seed_text = \"Help me Obi Wan Kenobi, you're my only hope\"\n",
        "next_words = 100\n",
        "  \n",
        "for _ in range(next_words):\n",
        "\t# Convert the text into sequences\n",
        "\ttoken_list = tokenizer.texts_to_sequences([seed_text])[0]\n",
        "\t# Pad the sequences\n",
        "\ttoken_list = pad_sequences([token_list], maxlen=max_sequence_len-1, padding='pre')\n",
        "\t# Get the probabilities of predicting a word\n",
        "\tpredicted = model.predict(token_list, verbose=0)\n",
        "\t# Choose the next word based on the maximum probability\n",
        "\tpredicted = np.argmax(predicted, axis=-1).item()\n",
        "\t# Get the actual word from the word index\n",
        "\toutput_word = tokenizer.index_word[predicted]\n",
        "\t# Append to the current text\n",
        "\tseed_text += \" \" + output_word\n",
        "\n",
        "print(seed_text)"
      ]
    },
    {
      "cell_type": "markdown",
      "metadata": {
        "id": "oQVDbdcYqSux"
      },
      "source": [
        "You will also need to submit this notebook for grading. To download it, click on the File tab in the upper left corner of the screen then click on Download -> Download .ipynb. You can name it anything you want as long as it is a valid .ipynb (jupyter notebook) file.\n",
        "\n",
        "**Congratulations on finishing this week's assignment!**\n",
        "\n",
        "You have successfully implemented a neural network capable of predicting the next word in a sequence of text!\n",
        "\n",
        "**We hope to see you in the next course of the specialization! Keep it up!**"
      ]
    },
    {
      "cell_type": "code",
      "source": [
        ""
      ],
      "metadata": {
        "id": "g42SWziqtr10"
      },
      "execution_count": 24,
      "outputs": []
    }
  ],
  "metadata": {
    "dlai_version": "1.2.0",
    "accelerator": "GPU",
    "jupytext": {
      "main_language": "python"
    },
    "kernelspec": {
      "display_name": "Python 3",
      "language": "python",
      "name": "python3"
    },
    "language_info": {
      "codemirror_mode": {
        "name": "ipython",
        "version": 3
      },
      "file_extension": ".py",
      "mimetype": "text/x-python",
      "name": "python",
      "nbconvert_exporter": "python",
      "pygments_lexer": "ipython3",
      "version": "3.7.4"
    },
    "colab": {
      "name": "C3W4_Assignment.ipynb",
      "provenance": []
    }
  },
  "nbformat": 4,
  "nbformat_minor": 0
}